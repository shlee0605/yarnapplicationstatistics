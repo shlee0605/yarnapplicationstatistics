{
 "cells": [
  {
   "cell_type": "code",
   "execution_count": 1,
   "metadata": {
    "collapsed": false
   },
   "outputs": [
    {
     "ename": "NameError",
     "evalue": "name 'a' is not defined",
     "output_type": "error",
     "traceback": [
      "\u001b[0;31m---------------------------------------------------------------------------\u001b[0m\n\u001b[0;31mNameError\u001b[0m                                 Traceback (most recent call last)",
      "\u001b[0;32m<ipython-input-1-6eb873ca269b>\u001b[0m in \u001b[0;36m<module>\u001b[0;34m()\u001b[0m\n\u001b[0;32m----> 1\u001b[0;31m \u001b[0ma\u001b[0m \u001b[0;34m=\u001b[0m \u001b[0ma\u001b[0m\u001b[0;34m+\u001b[0m\u001b[0;36m1\u001b[0m\u001b[0;34m\u001b[0m\u001b[0m\n\u001b[0m",
      "\u001b[0;31mNameError\u001b[0m: name 'a' is not defined"
     ]
    }
   ],
   "source": [
    "a = a+1"
   ]
  },
  {
   "cell_type": "code",
   "execution_count": 2,
   "metadata": {
    "collapsed": false
   },
   "outputs": [],
   "source": [
    "a = 1"
   ]
  },
  {
   "cell_type": "code",
   "execution_count": 3,
   "metadata": {
    "collapsed": false
   },
   "outputs": [],
   "source": [
    "a = a + 1"
   ]
  },
  {
   "cell_type": "code",
   "execution_count": 3,
   "metadata": {
    "collapsed": false
   },
   "outputs": [
    {
     "ename": "ImportError",
     "evalue": "dlopen(/Users/xuhong/anaconda/lib/python2.7/site-packages/_mysql.so, 2): Library not loaded: libssl.1.0.0.dylib\n  Referenced from: /Users/xuhong/anaconda/lib/python2.7/site-packages/_mysql.so\n  Reason: image not found",
     "output_type": "error",
     "traceback": [
      "\u001b[0;31m---------------------------------------------------------------------------\u001b[0m",
      "\u001b[0;31mImportError\u001b[0m                               Traceback (most recent call last)",
      "\u001b[0;32m<ipython-input-3-df0884aab42f>\u001b[0m in \u001b[0;36m<module>\u001b[0;34m()\u001b[0m\n\u001b[1;32m      1\u001b[0m \u001b[0;31m## Script for creating tables\u001b[0m\u001b[0;34m\u001b[0m\u001b[0;34m\u001b[0m\u001b[0m\n\u001b[1;32m      2\u001b[0m \u001b[0;34m\u001b[0m\u001b[0m\n\u001b[0;32m----> 3\u001b[0;31m \u001b[0;32mimport\u001b[0m \u001b[0m_mysql\u001b[0m\u001b[0;34m\u001b[0m\u001b[0m\n\u001b[0m\u001b[1;32m      4\u001b[0m \u001b[0;34m\u001b[0m\u001b[0m\n\u001b[1;32m      5\u001b[0m \u001b[0mHOST\u001b[0m \u001b[0;34m=\u001b[0m \u001b[0;34m'yarn.cueaar94ytrf.us-east-1.rds.amazonaws.com'\u001b[0m\u001b[0;34m\u001b[0m\u001b[0m\n",
      "\u001b[0;31mImportError\u001b[0m: dlopen(/Users/xuhong/anaconda/lib/python2.7/site-packages/_mysql.so, 2): Library not loaded: libssl.1.0.0.dylib\n  Referenced from: /Users/xuhong/anaconda/lib/python2.7/site-packages/_mysql.so\n  Reason: image not found"
     ]
    }
   ],
   "source": [
    "## Script for creating tables\n",
    "\n",
    "import _mysql\n",
    "\n",
    "HOST = 'yarn.cueaar94ytrf.us-east-1.rds.amazonaws.com'\n",
    "PORT = 3306\n",
    "USER = 'yarn'\n",
    "PASSWD = 'yarn1234'\n",
    "DB = 'yarn'\n",
    "\n",
    "remove_tb = \"DROP TABLE IF EXISTS cluster_metrics\"\n",
    "\n",
    "create_tb = \"\"\"\n",
    "CREATE TABLE cluster_metrics(\n",
    "    experiment_id INT,\n",
    "    time_elapsed BIGINT,\n",
    "    apps_submitted INT,\n",
    "    apps_completed INT,\n",
    "    apps_pending INT,\n",
    "    apps_running INT,\n",
    "    apps_failed INT,\n",
    "    apps_killed INT,\n",
    "    reserved_mb BIGINT,\n",
    "    available_mb BIGINT,\n",
    "    allocated_mb BIGINT,\n",
    "    total_mb BIGINT,\n",
    "    reserved_virtual_cores BIGINT,\n",
    "    available_virtual_cores BIGINT,\n",
    "    allocated_virtual_cores BIGINT,\n",
    "    total_virtual_cores BIGINT,\n",
    "    containers_allocated INT,\n",
    "    containers_reserved INT,\n",
    "    containers_pending INT,\n",
    "    total_nodes INT,\n",
    "    active_nodes INT,\n",
    "    lost_nodes INT,\n",
    "    unhealthy_nodes INT,\n",
    "    decommisioned_nodes INT,\n",
    "    rebooted_nodes INT\n",
    ")\n",
    "\"\"\"\n",
    "try:\n",
    "    con = _mysql.connect(host=HOST, port=PORT, user=USER, passwd=PASSWD, db=DB)\n",
    "    con.query(remove_tb)\n",
    "    con.query(create_tb)\n",
    "\n",
    "except _mysql.Error, e:\n",
    "    print \"Error %d: %s\" % (e.args[0], e.args[1])\n",
    "    sys.exit(1)\n",
    "\n",
    "finally:\n",
    "    if con:\n",
    "        con.close()\n",
    "\n"
   ]
  },
  {
   "cell_type": "code",
   "execution_count": 6,
   "metadata": {
    "collapsed": false
   },
   "outputs": [],
   "source": [
    "## Script for creating tables\n",
    "\n",
    "import _mysql\n",
    "import sys\n",
    "\n",
    "HOST = 'yarn.cueaar94ytrf.us-east-1.rds.amazonaws.com'\n",
    "PORT = 3306\n",
    "USER = 'yarn'\n",
    "PASSWD = 'yarn1234'\n",
    "DB = 'yarn'\n",
    "\n",
    "remove_tb = \"DROP TABLE IF EXISTS capacity_scheduler_metrics\"\n",
    "\n",
    "create_tb = \"\"\"\n",
    "CREATE TABLE capacity_scheduler_metrics(\n",
    "    experiment_id INT,\n",
    "    time_elapsed BIGINT,\n",
    "    capacity FLOAT,\n",
    "    used_capacity FLOAT,\n",
    "    max_capacity FLOAT,\n",
    "    absolute_capacity FLOAT,\n",
    "    absolute_max_capacity FLOAT,\n",
    "    absolute_used_capacity FLOAT,\n",
    "    num_applications INT,\n",
    "    queue_name VARCHAR(50),\n",
    "    state VARCHAR(50),\n",
    "    resource_used_memory INT,\n",
    "    resource_used_vcores INT,\n",
    "    num_active_applications INT,\n",
    "    num_pending_applications INT,\n",
    "    num_containers INT,\n",
    "    max_applications INT,\n",
    "    max_applications_per_user INT,\n",
    "    max_active_applications INT,\n",
    "    max_active_applications_per_user INT\n",
    ")\n",
    "\"\"\"\n",
    "try:\n",
    "    con = _mysql.connect(host=HOST, port=PORT, user=USER, passwd=PASSWD, db=DB)\n",
    "    con.query(remove_tb)\n",
    "    con.query(create_tb)\n",
    "\n",
    "except _mysql.Error, e:\n",
    "    print \"Error %d: %s\" % (e.args[0], e.args[1])\n",
    "    sys.exit(1)\n",
    "\n",
    "finally:\n",
    "    if con:\n",
    "        con.close()\n"
   ]
  },
  {
   "cell_type": "code",
   "execution_count": 1,
   "metadata": {
    "collapsed": false
   },
   "outputs": [],
   "source": [
    "## Script for drawing memory usage\n",
    "\n",
    "import MySQLdb as mdb\n",
    "import matplotlib.pyplot as plt\n",
    "\n",
    "HOST = 'yarn.cueaar94ytrf.us-east-1.rds.amazonaws.com'\n",
    "PORT = 3306\n",
    "USER = 'yarn'\n",
    "PASSWD = 'yarn1234'\n",
    "DB = 'yarn'\n",
    "\n",
    "query = \"SELECT time_elapsed, allocated_mb from cluster_metrics where experiment_id = 2 order by time_elapsed\" \n",
    "\n",
    "try:\n",
    "    con = mdb.connect(host=HOST, port=PORT, user=USER, passwd=PASSWD, db=DB)\n",
    "    cur = con.cursor()\n",
    "    cur.execute(query)\n",
    "\n",
    "    results = cur.fetchall()\n",
    "    \n",
    "    time = []\n",
    "    allocated_mb = []\n",
    "    \n",
    "    for result in results:\n",
    "        time.append(result[0]/1000)\n",
    "        allocated_mb.append(result[1])\n",
    "    plt.plot(time, allocated_mb)\n",
    "    plt.show()\n",
    "    \n",
    "except _mysql.Error, e:\n",
    "    print \"Error %d: %s\" % (e.args[0], e.args[1])\n",
    "    sys.exit(1)\n",
    "\n",
    "finally:\n",
    "    if con:\n",
    "        con.close()\n"
   ]
  },
  {
   "cell_type": "code",
   "execution_count": null,
   "metadata": {
    "collapsed": false
   },
   "outputs": [],
   "source": [
    "## Script for drawing memory usage\n",
    "\n",
    "import MySQLdb as mdb\n",
    "import matplotlib.pyplot as plt\n",
    "\n",
    "HOST = 'yarn.cueaar94ytrf.us-east-1.rds.amazonaws.com'\n",
    "PORT = 3306\n",
    "USER = 'yarn'\n",
    "PASSWD = 'yarn1234'\n",
    "DB = 'yarn'\n",
    "\n",
    "queryA = \"SELECT time_elapsed, absolute_used_capacity, queue_name from capacity_scheduler_metrics where experiment_id = 64 order by time_elapsed\" \n",
    "\n",
    "try:\n",
    "    con = mdb.connect(host=HOST, port=PORT, user=USER, passwd=PASSWD, db=DB)\n",
    "    cur = con.cursor()\n",
    "    cur.execute(queryA)\n",
    "\n",
    "    results = cur.fetchall()\n",
    "    \n",
    "    \n",
    "    time = []\n",
    "    memA = []\n",
    "    memB = []\n",
    "    \n",
    "    \n",
    "    for result in results:\n",
    "        time.append(result[0]/1000)\n",
    "        if result[2] == 'realtime':\n",
    "            memA.append(result[1])\n",
    "        elif result[2] == 'batch':\n",
    "            memB.append(result[1])\n",
    "\n",
    "            \n",
    "    time = sorted(set(time)) \n",
    "\n",
    "\n",
    "    \n",
    "    max = [10240] * len(time)\n",
    "    #plt.plot(time, max)\n",
    "\n",
    "\n",
    "    plt.subplot(2, 1, 1)\n",
    "    plt.plot(time, memA, 'c')\n",
    "    plt.subplot(2, 1, 2)\n",
    "    plt.plot(time, memB, 'c')\n",
    "    #plt.fill(time, memA, 'b')\n",
    "    #ax.plot(time, max)\n",
    "    plt.show()\n",
    "    \n",
    "    \n",
    "    \n",
    "\n",
    "    \n",
    "finally:\n",
    "    if con:\n",
    "        con.close()\n"
   ]
  },
  {
   "cell_type": "code",
   "execution_count": null,
   "metadata": {
    "collapsed": false
   },
   "outputs": [],
   "source": []
  },
  {
   "cell_type": "code",
   "execution_count": 14,
   "metadata": {
    "collapsed": false
   },
   "outputs": [
    {
     "name": "stdout",
     "output_type": "stream",
     "text": [
      "[[31  7 32 28 25 36 33  6 26 46]\n",
      " [23 31 21 16 26 25  9 13 37 14]\n",
      " [28 20 11  7 40 22 10 32 16  8]]\n",
      "[29 45  6 12  5 20 26  7 28 32]\n",
      "[31 16  9  8 19 38 42 49  8 21]\n"
     ]
    }
   ],
   "source": [
    "import numpy as np\n",
    "from matplotlib import pyplot as plt\n",
    "\n",
    "fnx = lambda : np.random.randint(5, 50, 10)\n",
    "y = np.row_stack((fnx(), fnx(), fnx()))\n",
    "x = np.arange(10)\n",
    "\n",
    "print y\n",
    "print y1\n",
    "print fnx()\n",
    "\n",
    "y1, y2, y3 = fnx(), fnx(), fnx()\n",
    "\n",
    "fig, ax = plt.subplots()\n",
    "ax.stackplot(x, y)\n",
    "plt.show()\n",
    "\n",
    "fig, ax = plt.subplots()\n",
    "ax.stackplot(x, y1, y2, y3)\n",
    "plt.show()"
   ]
  },
  {
   "cell_type": "code",
   "execution_count": null,
   "metadata": {
    "collapsed": true
   },
   "outputs": [],
   "source": []
  }
 ],
 "metadata": {
  "kernelspec": {
   "display_name": "Python 2",
   "language": "python",
   "name": "python2"
  },
  "language_info": {
   "codemirror_mode": {
    "name": "ipython",
    "version": 2
   },
   "file_extension": ".py",
   "mimetype": "text/x-python",
   "name": "python",
   "nbconvert_exporter": "python",
   "pygments_lexer": "ipython2",
   "version": "2.7.9"
  }
 },
 "nbformat": 4,
 "nbformat_minor": 0
}
