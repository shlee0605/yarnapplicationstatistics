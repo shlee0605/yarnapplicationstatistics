{
 "cells": [
  {
   "cell_type": "code",
   "execution_count": 1,
   "metadata": {
    "collapsed": false
   },
   "outputs": [
    {
     "ename": "NameError",
     "evalue": "name 'a' is not defined",
     "output_type": "error",
     "traceback": [
      "\u001b[0;31m---------------------------------------------------------------------------\u001b[0m\n\u001b[0;31mNameError\u001b[0m                                 Traceback (most recent call last)",
      "\u001b[0;32m<ipython-input-1-6eb873ca269b>\u001b[0m in \u001b[0;36m<module>\u001b[0;34m()\u001b[0m\n\u001b[0;32m----> 1\u001b[0;31m \u001b[0ma\u001b[0m \u001b[0;34m=\u001b[0m \u001b[0ma\u001b[0m\u001b[0;34m+\u001b[0m\u001b[0;36m1\u001b[0m\u001b[0;34m\u001b[0m\u001b[0m\n\u001b[0m",
      "\u001b[0;31mNameError\u001b[0m: name 'a' is not defined"
     ]
    }
   ],
   "source": [
    "a = a+1"
   ]
  },
  {
   "cell_type": "code",
   "execution_count": 2,
   "metadata": {
    "collapsed": false
   },
   "outputs": [],
   "source": [
    "a = 1"
   ]
  },
  {
   "cell_type": "code",
   "execution_count": 3,
   "metadata": {
    "collapsed": false
   },
   "outputs": [],
   "source": [
    "a = a + 1"
   ]
  },
  {
   "cell_type": "code",
   "execution_count": 2,
   "metadata": {
    "collapsed": false
   },
   "outputs": [],
   "source": [
    "## Script for creating tables\n",
    "\n",
    "import _mysql\n",
    "\n",
    "HOST = 'yarn.cueaar94ytrf.us-east-1.rds.amazonaws.com'\n",
    "PORT = 3306\n",
    "USER = 'yarn'\n",
    "PASSWD = 'yarn1234'\n",
    "DB = 'yarn'\n",
    "\n",
    "remove_tb = \"DROP TABLE IF EXISTS cluster_metrics\"\n",
    "\n",
    "create_tb = \"\"\"\n",
    "CREATE TABLE cluster_metrics(\n",
    "    experiment_id INT,\n",
    "    time_elapsed BIGINT,\n",
    "    apps_submitted INT,\n",
    "    apps_completed INT,\n",
    "    apps_pending INT,\n",
    "    apps_running INT,\n",
    "    apps_failed INT,\n",
    "    apps_killed INT,\n",
    "    reserved_mb BIGINT,\n",
    "    available_mb BIGINT,\n",
    "    allocated_mb BIGINT,\n",
    "    total_mb BIGINT,\n",
    "    reserved_virtual_cores BIGINT,\n",
    "    available_virtual_cores BIGINT,\n",
    "    allocated_virtual_cores BIGINT,\n",
    "    total_virtual_cores BIGINT,\n",
    "    containers_allocated INT,\n",
    "    containers_reserved INT,\n",
    "    containers_pending INT,\n",
    "    total_nodes INT,\n",
    "    active_nodes INT,\n",
    "    lost_nodes INT,\n",
    "    unhealthy_nodes INT,\n",
    "    decommisioned_nodes INT,\n",
    "    rebooted_nodes INT\n",
    ")\n",
    "\"\"\"\n",
    "try:\n",
    "    con = _mysql.connect(host=HOST, port=PORT, user=USER, passwd=PASSWD, db=DB)\n",
    "    con.query(remove_tb)\n",
    "    con.query(create_tb)\n",
    "\n",
    "except _mysql.Error, e:\n",
    "    print \"Error %d: %s\" % (e.args[0], e.args[1])\n",
    "    sys.exit(1)\n",
    "\n",
    "finally:\n",
    "    if con:\n",
    "        con.close()\n",
    "\n"
   ]
  },
  {
   "cell_type": "code",
   "execution_count": 53,
   "metadata": {
    "collapsed": false
   },
   "outputs": [],
   "source": [
    "## Script for drawing memory usage\n",
    "\n",
    "import MySQLdb as mdb\n",
    "import matplotlib.pyplot as plt\n",
    "\n",
    "HOST = 'yarn.cueaar94ytrf.us-east-1.rds.amazonaws.com'\n",
    "PORT = 3306\n",
    "USER = 'yarn'\n",
    "PASSWD = 'yarn1234'\n",
    "DB = 'yarn'\n",
    "\n",
    "query = \"SELECT time_elapsed, allocated_mb from cluster_metrics where experiment_id = 2 order by time_elapsed\" \n",
    "\n",
    "try:\n",
    "    con = mdb.connect(host=HOST, port=PORT, user=USER, passwd=PASSWD, db=DB)\n",
    "    cur = con.cursor()\n",
    "    cur.execute(query)\n",
    "\n",
    "    results = cur.fetchall()\n",
    "    \n",
    "    time = []\n",
    "    allocated_mb = []\n",
    "    \n",
    "    for result in results:\n",
    "        time.append(result[0]/1000)\n",
    "        allocated_mb.append(result[1])\n",
    "    \n",
    "    plt.plot(time, allocated_mb)\n",
    "    plt.show()\n",
    "    \n",
    "except _mysql.Error, e:\n",
    "    print \"Error %d: %s\" % (e.args[0], e.args[1])\n",
    "    sys.exit(1)\n",
    "\n",
    "finally:\n",
    "    if con:\n",
    "        con.close()\n"
   ]
  },
  {
   "cell_type": "code",
   "execution_count": null,
   "metadata": {
    "collapsed": false
   },
   "outputs": [],
   "source": []
  },
  {
   "cell_type": "code",
   "execution_count": null,
   "metadata": {
    "collapsed": false
   },
   "outputs": [],
   "source": []
  }
 ],
 "metadata": {
  "kernelspec": {
   "display_name": "Python 2",
   "language": "python",
   "name": "python2"
  },
  "language_info": {
   "codemirror_mode": {
    "name": "ipython",
    "version": 2
   },
   "file_extension": ".py",
   "mimetype": "text/x-python",
   "name": "python",
   "nbconvert_exporter": "python",
   "pygments_lexer": "ipython2",
   "version": "2.7.9"
  }
 },
 "nbformat": 4,
 "nbformat_minor": 0
}
